{
 "cells": [
  {
   "cell_type": "code",
   "execution_count": 21,
   "metadata": {},
   "outputs": [],
   "source": [
    "import numpy as np\n",
    "import matplotlib.pyplot as plt\n",
    "import math\n",
    "import csv"
   ]
  },
  {
   "cell_type": "code",
   "execution_count": 22,
   "metadata": {},
   "outputs": [
    {
     "data": {
      "image/png": "[encoded data removed]",
      "text/plain": [
       "<Figure size 432x288 with 1 Axes>"
      ]
     },
     "metadata": {
      "needs_background": "light"
     },
     "output_type": "display_data"
    }
   ],
   "source": [
    "delta = 1.0\n",
    "epsilon = 0.01\n",
    "sideLength = (epsilon*delta)/(6*math.sqrt(2))\n",
    "n=100\n",
    "xCenter = []\n",
    "yCenter = []\n",
    "midLength = sideLength/2;\n",
    "for i in range(100):\n",
    "    for j in range(100):\n",
    "        centerX = (i * sideLength) + midLength;\n",
    "        centerY = (j * sideLength) + midLength;\n",
    "        xCenter.append(centerX)\n",
    "        yCenter.append(centerY)\n",
    "\n",
    "\n",
    "fileNames = ['nd_1.00_100.txt']\n",
    "for fN in fileNames:\n",
    "    xA = []\n",
    "    yA = []\n",
    "    xB = []\n",
    "    yB = []\n",
    "\n",
    "    with open('FASTMATCH/experiment/data/'+fN, 'r') as f:\n",
    "        data = f.readlines()\n",
    "\n",
    "        for i in range(len(data)):\n",
    "            if(i == 0):\n",
    "                continue\n",
    "            point = data[i]\n",
    "            l, px, py = point.split()\n",
    "\n",
    "            if(l == 'A:'):   \n",
    "                xA.append(float(px))\n",
    "                yA.append(float(py))\n",
    "            else:\n",
    "                xB.append(float(px))\n",
    "                yB.append(float(py))\n",
    "\n",
    "    plt.plot(xA, yA, '.')\n",
    "    plt.plot(xB, yB, '.')\n",
    "    # plt.plot(xCenter, yCenter, 'x')\n",
    "    plt.xlabel('x')\n",
    "    plt.ylabel('y')\n",
    "    plt.title('Data Plot of '+fN)\n",
    "    # plt.grid(True)\n",
    "    # plt.yticks(np.arange(-1.0, 1.0, sideLength))\n",
    "    # plt.xticks(np.arange(-1.0, 1.0, sideLength))\n",
    "    plt.show()\n"
   ]
  },
  {
   "cell_type": "code",
   "execution_count": null,
   "metadata": {},
   "outputs": [],
   "source": []
  }
 ],
 "metadata": {
  "kernelspec": {
   "display_name": "Python 3",
   "language": "python",
   "name": "python3"
  },
  "language_info": {
   "codemirror_mode": {
    "name": "ipython",
    "version": 3
   },
   "file_extension": ".py",
   "mimetype": "text/x-python",
   "name": "python",
   "nbconvert_exporter": "python",
   "pygments_lexer": "ipython3",
   "version": "3.7.4"
  }
 },
 "nbformat": 4,
 "nbformat_minor": 2
}
